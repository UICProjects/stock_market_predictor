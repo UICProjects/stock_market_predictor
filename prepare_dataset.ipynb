{
 "cells": [
  {
   "cell_type": "code",
   "execution_count": 1,
   "metadata": {},
   "outputs": [],
   "source": [
    "import pandas as pd"
   ]
  },
  {
   "cell_type": "code",
   "execution_count": 2,
   "metadata": {},
   "outputs": [],
   "source": [
    "news_data = pd.read_csv(\"Data/news_data.csv\")"
   ]
  },
  {
   "cell_type": "code",
   "execution_count": 3,
   "metadata": {},
   "outputs": [
    {
     "data": {
      "text/html": [
       "<div>\n",
       "<style scoped>\n",
       "    .dataframe tbody tr th:only-of-type {\n",
       "        vertical-align: middle;\n",
       "    }\n",
       "\n",
       "    .dataframe tbody tr th {\n",
       "        vertical-align: top;\n",
       "    }\n",
       "\n",
       "    .dataframe thead th {\n",
       "        text-align: right;\n",
       "    }\n",
       "</style>\n",
       "<table border=\"1\" class=\"dataframe\">\n",
       "  <thead>\n",
       "    <tr style=\"text-align: right;\">\n",
       "      <th></th>\n",
       "      <th>category</th>\n",
       "      <th>datetime</th>\n",
       "      <th>headline</th>\n",
       "      <th>id</th>\n",
       "      <th>image</th>\n",
       "      <th>related</th>\n",
       "      <th>source</th>\n",
       "      <th>summary</th>\n",
       "      <th>url</th>\n",
       "    </tr>\n",
       "  </thead>\n",
       "  <tbody>\n",
       "    <tr>\n",
       "      <th>0</th>\n",
       "      <td>company</td>\n",
       "      <td>1697909459</td>\n",
       "      <td>Humanoid robots face a major test with Amazon'...</td>\n",
       "      <td>123320327</td>\n",
       "      <td>https://techcrunch.com/wp-content/uploads/2023...</td>\n",
       "      <td>AMZN</td>\n",
       "      <td>Yahoo</td>\n",
       "      <td>Announced amid a deluge of news at this week’s...</td>\n",
       "      <td>https://finnhub.io/api/news?id=8cb32870bb15be8...</td>\n",
       "    </tr>\n",
       "    <tr>\n",
       "      <th>1</th>\n",
       "      <td>company</td>\n",
       "      <td>1697896800</td>\n",
       "      <td>3 Stocks That Turned $1,000 Into $1.1 Million ...</td>\n",
       "      <td>123315781</td>\n",
       "      <td>NaN</td>\n",
       "      <td>MNST</td>\n",
       "      <td>Yahoo</td>\n",
       "      <td>Consumer products have proven themselves to be...</td>\n",
       "      <td>https://finnhub.io/api/news?id=d75d610543b91f1...</td>\n",
       "    </tr>\n",
       "    <tr>\n",
       "      <th>2</th>\n",
       "      <td>company</td>\n",
       "      <td>1697896800</td>\n",
       "      <td>The U.S. Cities With the Most Cutting-Edge Tec...</td>\n",
       "      <td>123315249</td>\n",
       "      <td>https://s.yimg.com/ny/api/res/1.2/kLEZByvMTM7D...</td>\n",
       "      <td>WMT</td>\n",
       "      <td>Yahoo</td>\n",
       "      <td>The Seattle area has the highest proportion of...</td>\n",
       "      <td>https://finnhub.io/api/news?id=faca644c2f7e4e6...</td>\n",
       "    </tr>\n",
       "    <tr>\n",
       "      <th>3</th>\n",
       "      <td>company</td>\n",
       "      <td>1697895295</td>\n",
       "      <td>Dow Jones Futures: Market Point Break? Microso...</td>\n",
       "      <td>123315250</td>\n",
       "      <td>https://media.zenfs.com/en/ibd.com/ec8365e261a...</td>\n",
       "      <td>MSFT</td>\n",
       "      <td>Yahoo</td>\n",
       "      <td>Microsoft, Meta and Google lead a massive wave...</td>\n",
       "      <td>https://finnhub.io/api/news?id=6c9b9cc8fb7f9ec...</td>\n",
       "    </tr>\n",
       "    <tr>\n",
       "      <th>4</th>\n",
       "      <td>company</td>\n",
       "      <td>1697890800</td>\n",
       "      <td>Rivian (NASDAQ:RIVN): Wall Street Loves This E...</td>\n",
       "      <td>123319798</td>\n",
       "      <td>NaN</td>\n",
       "      <td>TSLA</td>\n",
       "      <td>TipRanks</td>\n",
       "      <td>Looking for stock market analysis and research...</td>\n",
       "      <td>https://finnhub.io/api/news?id=fe0b89552f14e89...</td>\n",
       "    </tr>\n",
       "  </tbody>\n",
       "</table>\n",
       "</div>"
      ],
      "text/plain": [
       "  category    datetime                                           headline  \\\n",
       "0  company  1697909459  Humanoid robots face a major test with Amazon'...   \n",
       "1  company  1697896800  3 Stocks That Turned $1,000 Into $1.1 Million ...   \n",
       "2  company  1697896800  The U.S. Cities With the Most Cutting-Edge Tec...   \n",
       "3  company  1697895295  Dow Jones Futures: Market Point Break? Microso...   \n",
       "4  company  1697890800  Rivian (NASDAQ:RIVN): Wall Street Loves This E...   \n",
       "\n",
       "          id                                              image related  \\\n",
       "0  123320327  https://techcrunch.com/wp-content/uploads/2023...    AMZN   \n",
       "1  123315781                                                NaN    MNST   \n",
       "2  123315249  https://s.yimg.com/ny/api/res/1.2/kLEZByvMTM7D...     WMT   \n",
       "3  123315250  https://media.zenfs.com/en/ibd.com/ec8365e261a...    MSFT   \n",
       "4  123319798                                                NaN    TSLA   \n",
       "\n",
       "     source                                            summary  \\\n",
       "0     Yahoo  Announced amid a deluge of news at this week’s...   \n",
       "1     Yahoo  Consumer products have proven themselves to be...   \n",
       "2     Yahoo  The Seattle area has the highest proportion of...   \n",
       "3     Yahoo  Microsoft, Meta and Google lead a massive wave...   \n",
       "4  TipRanks  Looking for stock market analysis and research...   \n",
       "\n",
       "                                                 url  \n",
       "0  https://finnhub.io/api/news?id=8cb32870bb15be8...  \n",
       "1  https://finnhub.io/api/news?id=d75d610543b91f1...  \n",
       "2  https://finnhub.io/api/news?id=faca644c2f7e4e6...  \n",
       "3  https://finnhub.io/api/news?id=6c9b9cc8fb7f9ec...  \n",
       "4  https://finnhub.io/api/news?id=fe0b89552f14e89...  "
      ]
     },
     "execution_count": 3,
     "metadata": {},
     "output_type": "execute_result"
    }
   ],
   "source": [
    "news_data.head()"
   ]
  },
  {
   "cell_type": "code",
   "execution_count": 4,
   "metadata": {},
   "outputs": [],
   "source": [
    "news_data.drop(columns=['category','image','url','id','source'], inplace=True)"
   ]
  },
  {
   "cell_type": "code",
   "execution_count": 5,
   "metadata": {},
   "outputs": [
    {
     "data": {
      "text/plain": [
       "Index(['datetime', 'headline', 'related', 'summary'], dtype='object')"
      ]
     },
     "execution_count": 5,
     "metadata": {},
     "output_type": "execute_result"
    }
   ],
   "source": [
    "news_data.columns"
   ]
  },
  {
   "cell_type": "code",
   "execution_count": 7,
   "metadata": {},
   "outputs": [
    {
     "data": {
      "text/plain": [
       "(757, 4)"
      ]
     },
     "execution_count": 7,
     "metadata": {},
     "output_type": "execute_result"
    }
   ],
   "source": [
    "news_data.shape"
   ]
  },
  {
   "cell_type": "code",
   "execution_count": 8,
   "metadata": {},
   "outputs": [
    {
     "data": {
      "text/html": [
       "<div>\n",
       "<style scoped>\n",
       "    .dataframe tbody tr th:only-of-type {\n",
       "        vertical-align: middle;\n",
       "    }\n",
       "\n",
       "    .dataframe tbody tr th {\n",
       "        vertical-align: top;\n",
       "    }\n",
       "\n",
       "    .dataframe thead th {\n",
       "        text-align: right;\n",
       "    }\n",
       "</style>\n",
       "<table border=\"1\" class=\"dataframe\">\n",
       "  <thead>\n",
       "    <tr style=\"text-align: right;\">\n",
       "      <th></th>\n",
       "      <th>datetime</th>\n",
       "      <th>headline</th>\n",
       "      <th>related</th>\n",
       "      <th>summary</th>\n",
       "    </tr>\n",
       "  </thead>\n",
       "  <tbody>\n",
       "    <tr>\n",
       "      <th>0</th>\n",
       "      <td>1697909459</td>\n",
       "      <td>Humanoid robots face a major test with Amazon'...</td>\n",
       "      <td>AMZN</td>\n",
       "      <td>Announced amid a deluge of news at this week’s...</td>\n",
       "    </tr>\n",
       "    <tr>\n",
       "      <th>1</th>\n",
       "      <td>1697896800</td>\n",
       "      <td>3 Stocks That Turned $1,000 Into $1.1 Million ...</td>\n",
       "      <td>MNST</td>\n",
       "      <td>Consumer products have proven themselves to be...</td>\n",
       "    </tr>\n",
       "    <tr>\n",
       "      <th>2</th>\n",
       "      <td>1697896800</td>\n",
       "      <td>The U.S. Cities With the Most Cutting-Edge Tec...</td>\n",
       "      <td>WMT</td>\n",
       "      <td>The Seattle area has the highest proportion of...</td>\n",
       "    </tr>\n",
       "    <tr>\n",
       "      <th>3</th>\n",
       "      <td>1697895295</td>\n",
       "      <td>Dow Jones Futures: Market Point Break? Microso...</td>\n",
       "      <td>MSFT</td>\n",
       "      <td>Microsoft, Meta and Google lead a massive wave...</td>\n",
       "    </tr>\n",
       "    <tr>\n",
       "      <th>4</th>\n",
       "      <td>1697890800</td>\n",
       "      <td>Rivian (NASDAQ:RIVN): Wall Street Loves This E...</td>\n",
       "      <td>TSLA</td>\n",
       "      <td>Looking for stock market analysis and research...</td>\n",
       "    </tr>\n",
       "  </tbody>\n",
       "</table>\n",
       "</div>"
      ],
      "text/plain": [
       "     datetime                                           headline related  \\\n",
       "0  1697909459  Humanoid robots face a major test with Amazon'...    AMZN   \n",
       "1  1697896800  3 Stocks That Turned $1,000 Into $1.1 Million ...    MNST   \n",
       "2  1697896800  The U.S. Cities With the Most Cutting-Edge Tec...     WMT   \n",
       "3  1697895295  Dow Jones Futures: Market Point Break? Microso...    MSFT   \n",
       "4  1697890800  Rivian (NASDAQ:RIVN): Wall Street Loves This E...    TSLA   \n",
       "\n",
       "                                             summary  \n",
       "0  Announced amid a deluge of news at this week’s...  \n",
       "1  Consumer products have proven themselves to be...  \n",
       "2  The Seattle area has the highest proportion of...  \n",
       "3  Microsoft, Meta and Google lead a massive wave...  \n",
       "4  Looking for stock market analysis and research...  "
      ]
     },
     "execution_count": 8,
     "metadata": {},
     "output_type": "execute_result"
    }
   ],
   "source": [
    "news_data.head()"
   ]
  },
  {
   "cell_type": "code",
   "execution_count": 9,
   "metadata": {},
   "outputs": [
    {
     "name": "stdout",
     "output_type": "stream",
     "text": [
      "int64\n"
     ]
    }
   ],
   "source": [
    "print(news_data['datetime'].dtype)"
   ]
  },
  {
   "cell_type": "code",
   "execution_count": 10,
   "metadata": {},
   "outputs": [],
   "source": [
    "filename = \"Data/historical_stock_prices.csv\""
   ]
  },
  {
   "cell_type": "code",
   "execution_count": 11,
   "metadata": {},
   "outputs": [],
   "source": [
    "prices = pd.read_csv(filename)"
   ]
  },
  {
   "cell_type": "code",
   "execution_count": 12,
   "metadata": {},
   "outputs": [
    {
     "data": {
      "text/html": [
       "<div>\n",
       "<style scoped>\n",
       "    .dataframe tbody tr th:only-of-type {\n",
       "        vertical-align: middle;\n",
       "    }\n",
       "\n",
       "    .dataframe tbody tr th {\n",
       "        vertical-align: top;\n",
       "    }\n",
       "\n",
       "    .dataframe thead th {\n",
       "        text-align: right;\n",
       "    }\n",
       "</style>\n",
       "<table border=\"1\" class=\"dataframe\">\n",
       "  <thead>\n",
       "    <tr style=\"text-align: right;\">\n",
       "      <th></th>\n",
       "      <th>Date</th>\n",
       "      <th>Open</th>\n",
       "      <th>High</th>\n",
       "      <th>Low</th>\n",
       "      <th>Close</th>\n",
       "      <th>Adj Close</th>\n",
       "      <th>Volume</th>\n",
       "      <th>Ticker</th>\n",
       "    </tr>\n",
       "  </thead>\n",
       "  <tbody>\n",
       "    <tr>\n",
       "      <th>0</th>\n",
       "      <td>2022-11-28</td>\n",
       "      <td>128.110001</td>\n",
       "      <td>128.580002</td>\n",
       "      <td>124.120003</td>\n",
       "      <td>124.639999</td>\n",
       "      <td>117.534454</td>\n",
       "      <td>2773500</td>\n",
       "      <td>MMM</td>\n",
       "    </tr>\n",
       "    <tr>\n",
       "      <th>1</th>\n",
       "      <td>2022-11-29</td>\n",
       "      <td>124.080002</td>\n",
       "      <td>126.339996</td>\n",
       "      <td>124.010002</td>\n",
       "      <td>126.129997</td>\n",
       "      <td>118.939507</td>\n",
       "      <td>1863100</td>\n",
       "      <td>MMM</td>\n",
       "    </tr>\n",
       "    <tr>\n",
       "      <th>2</th>\n",
       "      <td>2022-11-30</td>\n",
       "      <td>125.900002</td>\n",
       "      <td>126.250000</td>\n",
       "      <td>121.360001</td>\n",
       "      <td>125.970001</td>\n",
       "      <td>118.788635</td>\n",
       "      <td>5830600</td>\n",
       "      <td>MMM</td>\n",
       "    </tr>\n",
       "    <tr>\n",
       "      <th>3</th>\n",
       "      <td>2022-12-01</td>\n",
       "      <td>127.300003</td>\n",
       "      <td>128.869995</td>\n",
       "      <td>125.309998</td>\n",
       "      <td>125.989998</td>\n",
       "      <td>118.807487</td>\n",
       "      <td>2638800</td>\n",
       "      <td>MMM</td>\n",
       "    </tr>\n",
       "    <tr>\n",
       "      <th>4</th>\n",
       "      <td>2022-12-02</td>\n",
       "      <td>124.760002</td>\n",
       "      <td>127.250000</td>\n",
       "      <td>124.239998</td>\n",
       "      <td>126.989998</td>\n",
       "      <td>119.750481</td>\n",
       "      <td>1821900</td>\n",
       "      <td>MMM</td>\n",
       "    </tr>\n",
       "  </tbody>\n",
       "</table>\n",
       "</div>"
      ],
      "text/plain": [
       "         Date        Open        High         Low       Close   Adj Close  \\\n",
       "0  2022-11-28  128.110001  128.580002  124.120003  124.639999  117.534454   \n",
       "1  2022-11-29  124.080002  126.339996  124.010002  126.129997  118.939507   \n",
       "2  2022-11-30  125.900002  126.250000  121.360001  125.970001  118.788635   \n",
       "3  2022-12-01  127.300003  128.869995  125.309998  125.989998  118.807487   \n",
       "4  2022-12-02  124.760002  127.250000  124.239998  126.989998  119.750481   \n",
       "\n",
       "    Volume Ticker  \n",
       "0  2773500    MMM  \n",
       "1  1863100    MMM  \n",
       "2  5830600    MMM  \n",
       "3  2638800    MMM  \n",
       "4  1821900    MMM  "
      ]
     },
     "execution_count": 12,
     "metadata": {},
     "output_type": "execute_result"
    }
   ],
   "source": [
    "prices.head()"
   ]
  },
  {
   "cell_type": "code",
   "execution_count": 20,
   "metadata": {},
   "outputs": [],
   "source": [
    "ticker = 'AAPL'"
   ]
  },
  {
   "cell_type": "code",
   "execution_count": 39,
   "metadata": {},
   "outputs": [],
   "source": [
    "x = prices[(prices['Date'] == '2022-11-28') & (prices['Ticker'] == ticker)].to_dict()\n"
   ]
  },
  {
   "cell_type": "code",
   "execution_count": 44,
   "metadata": {},
   "outputs": [],
   "source": [
    "timestamp = 1669701900"
   ]
  },
  {
   "cell_type": "code",
   "execution_count": 41,
   "metadata": {},
   "outputs": [],
   "source": [
    "from datetime import datetime"
   ]
  },
  {
   "cell_type": "code",
   "execution_count": 45,
   "metadata": {},
   "outputs": [],
   "source": [
    "exact = datetime.fromtimestamp(timestamp)"
   ]
  },
  {
   "cell_type": "code",
   "execution_count": 46,
   "metadata": {},
   "outputs": [
    {
     "name": "stdout",
     "output_type": "stream",
     "text": [
      "2023-10-21\n"
     ]
    }
   ],
   "source": [
    "print(str(exact.date()))"
   ]
  },
  {
   "cell_type": "code",
   "execution_count": 49,
   "metadata": {},
   "outputs": [],
   "source": [
    "stock_data_1 = prices[(prices['Date'] == str(exact.date())) & (prices['Ticker'] == ticker)]"
   ]
  },
  {
   "cell_type": "code",
   "execution_count": 50,
   "metadata": {},
   "outputs": [
    {
     "data": {
      "text/html": [
       "<div>\n",
       "<style scoped>\n",
       "    .dataframe tbody tr th:only-of-type {\n",
       "        vertical-align: middle;\n",
       "    }\n",
       "\n",
       "    .dataframe tbody tr th {\n",
       "        vertical-align: top;\n",
       "    }\n",
       "\n",
       "    .dataframe thead th {\n",
       "        text-align: right;\n",
       "    }\n",
       "</style>\n",
       "<table border=\"1\" class=\"dataframe\">\n",
       "  <thead>\n",
       "    <tr style=\"text-align: right;\">\n",
       "      <th></th>\n",
       "      <th>Date</th>\n",
       "      <th>Open</th>\n",
       "      <th>High</th>\n",
       "      <th>Low</th>\n",
       "      <th>Close</th>\n",
       "      <th>Adj Close</th>\n",
       "      <th>Volume</th>\n",
       "      <th>Ticker</th>\n",
       "    </tr>\n",
       "  </thead>\n",
       "  <tbody>\n",
       "  </tbody>\n",
       "</table>\n",
       "</div>"
      ],
      "text/plain": [
       "Empty DataFrame\n",
       "Columns: [Date, Open, High, Low, Close, Adj Close, Volume, Ticker]\n",
       "Index: []"
      ]
     },
     "execution_count": 50,
     "metadata": {},
     "output_type": "execute_result"
    }
   ],
   "source": [
    "stock_data_1"
   ]
  },
  {
   "cell_type": "code",
   "execution_count": 40,
   "metadata": {},
   "outputs": [
    {
     "data": {
      "text/plain": [
       "{'Date': {10500: '2022-11-28'},\n",
       " 'Open': {10500: 145.13999938964844},\n",
       " 'High': {10500: 146.63999938964844},\n",
       " 'Low': {10500: 143.3800048828125},\n",
       " 'Close': {10500: 144.22000122070312},\n",
       " 'Adj Close': {10500: 143.41835021972656},\n",
       " 'Volume': {10500: 69246000},\n",
       " 'Ticker': {10500: 'AAPL'}}"
      ]
     },
     "execution_count": 40,
     "metadata": {},
     "output_type": "execute_result"
    }
   ],
   "source": [
    "x"
   ]
  }
 ],
 "metadata": {
  "kernelspec": {
   "display_name": "mlproject",
   "language": "python",
   "name": "python3"
  },
  "language_info": {
   "codemirror_mode": {
    "name": "ipython",
    "version": 3
   },
   "file_extension": ".py",
   "mimetype": "text/x-python",
   "name": "python",
   "nbconvert_exporter": "python",
   "pygments_lexer": "ipython3",
   "version": "3.9.18"
  }
 },
 "nbformat": 4,
 "nbformat_minor": 2
}
